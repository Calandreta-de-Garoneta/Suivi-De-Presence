{
 "cells": [
  {
   "cell_type": "code",
   "execution_count": 133,
   "id": "11865a96",
   "metadata": {},
   "outputs": [],
   "source": [
    "import pandas as pd # pour traiter les tableaux\n",
    "import shutil # pour gérer les fichiers et en particulier copier le fichier modèle"
   ]
  },
  {
   "cell_type": "code",
   "execution_count": 41,
   "id": "e8024549",
   "metadata": {},
   "outputs": [
    {
     "name": "stdout",
     "output_type": "stream",
     "text": [
      "WARNING *** OLE2 inconsistency: SSCS size is 0 but SSAT size is non-zero\n"
     ]
    }
   ],
   "source": [
    "stat_inscrits = pd.read_excel(\"statistiques_inscrits.xls\", skiprows=3)\n",
    "stat_inscrits['nom_classe'] = stat_inscrits.Classe.str.split(expand=True).iloc[:,[0]]\n",
    "stat_inscrits['Niveau'] = stat_inscrits.Classe.str.split(expand=True).iloc[:,[1]]"
   ]
  },
  {
   "cell_type": "code",
   "execution_count": 130,
   "id": "078c54c6",
   "metadata": {},
   "outputs": [],
   "source": [
    "for nom_classe in ['Aiga', \"Tèrra\", \"Fuòc\", \"Amor\", \"Aire\"]:\n",
    "    Classe = stat_inscrits[stat_inscrits.nom_classe==nom_classe]\n",
    "    Classe = Classe[Classe.Groupe.isin(['CLAE Matin', 'CLAE Midi', 'CLAE Soir'])]\n",
    "    Classe = Classe[~Classe.Groupe.isna()]\n",
    "    Classe = pd.concat([Classe, pd.get_dummies(Classe.Clae)[['Matin', 'Midi', 'Soir']]], axis=1)\n",
    "    Classe_pivot = Classe.pivot_table(values=['Matin', 'Midi', 'Soir'], index=['Enfant', 'Niveau'], columns=['Début inscr.'], aggfunc='sum')#.swaplevel(0, 1, axis=1)\n",
    "    Classe_pivot = Classe_pivot.reorder_levels([1, 0], axis=1).sort_values('Début inscr.', axis=1)\n",
    "    with pd.ExcelWriter(\"Suivi Des Presences Hebdomadaire-Modele.xlsx\", mode=\"a\", engine=\"openpyxl\", if_sheet_exists=\"replace\") as writer:\n",
    "        Classe_pivot.to_excel(writer, sheet_name=nom_classe, startrow=4)  "
   ]
  }
 ],
 "metadata": {
  "kernelspec": {
   "display_name": "Python 3 (ipykernel)",
   "language": "python",
   "name": "python3"
  },
  "language_info": {
   "codemirror_mode": {
    "name": "ipython",
    "version": 3
   },
   "file_extension": ".py",
   "mimetype": "text/x-python",
   "name": "python",
   "nbconvert_exporter": "python",
   "pygments_lexer": "ipython3",
   "version": "3.9.7"
  }
 },
 "nbformat": 4,
 "nbformat_minor": 5
}
